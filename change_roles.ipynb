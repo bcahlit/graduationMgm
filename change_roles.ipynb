{
 "cells": [
  {
   "cell_type": "code",
   "execution_count": 9,
   "metadata": {},
   "outputs": [],
   "source": [
    "# For normal formations with samples\n",
    "import re\n",
    "\n",
    "with open('setplay-our-formation.conf', 'r') as conffile:\n",
    "        lines = conffile.readlines()\n",
    "\n",
    "break_match = re.compile('----- [0-9]* -----\\n')\n",
    "\n",
    "begin = False\n",
    "formations = list()\n",
    "for i, line in enumerate(lines):\n",
    "    if re.match(break_match, line):\n",
    "        formations.append(dict())\n",
    "        if not begin:\n",
    "            begin = True\n",
    "            fn = 0\n",
    "        else:\n",
    "            fn += 1\n",
    "    elif begin and 'End' not in line:\n",
    "        obj, x, y = line.split(' ')  \n",
    "        formations[fn][obj] = (x,y)\n",
    "\n",
    "new_forms = list()\n",
    "for formation in formations:\n",
    "    new_form = dict()\n",
    "    i = 4\n",
    "    for key, value in formation.items():\n",
    "        if key in ['Ball', '1', '11']:\n",
    "            new_form[key] = formation[key]\n",
    "        elif int(key) < 6:\n",
    "            new_form[key] = formation[str(int(key) + 2*i)]\n",
    "            i -= 1\n",
    "        elif int(key) == 6:\n",
    "            new_form[key] = formation[key]\n",
    "            i = 1\n",
    "        elif int(key) > 6:\n",
    "            new_form[key] = formation[str(int(key) - 2*i)]\n",
    "            i += 1\n",
    "    new_forms.append(new_form)\n",
    "\n",
    "new_lines = list()\n",
    "for i,form in enumerate(new_forms):\n",
    "    new_lines.append(f'----- {i} -----\\n')\n",
    "    for key, value in form.items():\n",
    "        new_lines.append(' '.join([key, value[0], value[1]]))\n",
    "\n",
    "with open('new_form.conf', 'w') as newf:\n",
    "    newf.writelines(new_lines)\n",
    "    newf.close()"
   ]
  },
  {
   "cell_type": "code",
   "execution_count": 45,
   "metadata": {},
   "outputs": [
    {
     "ename": "KeyError",
     "evalue": "'2'",
     "output_type": "error",
     "traceback": [
      "\u001b[0;31m---------------------------------------------------------------------------\u001b[0m",
      "\u001b[0;31mKeyError\u001b[0m                                  Traceback (most recent call last)",
      "\u001b[0;32m<ipython-input-45-ca0b38c5fc17>\u001b[0m in \u001b[0;36m<module>\u001b[0;34m\u001b[0m\n\u001b[1;32m     29\u001b[0m         \u001b[0mi\u001b[0m \u001b[0;34m=\u001b[0m \u001b[0;36m1\u001b[0m\u001b[0;34m\u001b[0m\u001b[0;34m\u001b[0m\u001b[0m\n\u001b[1;32m     30\u001b[0m     \u001b[0;32melif\u001b[0m \u001b[0mint\u001b[0m\u001b[0;34m(\u001b[0m\u001b[0mkey\u001b[0m\u001b[0;34m)\u001b[0m \u001b[0;34m>\u001b[0m \u001b[0;36m6\u001b[0m\u001b[0;34m:\u001b[0m\u001b[0;34m\u001b[0m\u001b[0;34m\u001b[0m\u001b[0m\n\u001b[0;32m---> 31\u001b[0;31m         \u001b[0mnew_form\u001b[0m\u001b[0;34m[\u001b[0m\u001b[0mkey\u001b[0m\u001b[0;34m]\u001b[0m \u001b[0;34m=\u001b[0m \u001b[0mformation\u001b[0m\u001b[0;34m[\u001b[0m\u001b[0mstr\u001b[0m\u001b[0;34m(\u001b[0m\u001b[0mint\u001b[0m\u001b[0;34m(\u001b[0m\u001b[0mkey\u001b[0m\u001b[0;34m)\u001b[0m \u001b[0;34m-\u001b[0m \u001b[0;36m2\u001b[0m\u001b[0;34m*\u001b[0m\u001b[0mi\u001b[0m\u001b[0;34m)\u001b[0m\u001b[0;34m]\u001b[0m\u001b[0;34m\u001b[0m\u001b[0;34m\u001b[0m\u001b[0m\n\u001b[0m\u001b[1;32m     32\u001b[0m         \u001b[0mi\u001b[0m \u001b[0;34m+=\u001b[0m \u001b[0;36m1\u001b[0m\u001b[0;34m\u001b[0m\u001b[0;34m\u001b[0m\u001b[0m\n\u001b[1;32m     33\u001b[0m \u001b[0;34m\u001b[0m\u001b[0m\n",
      "\u001b[0;31mKeyError\u001b[0m: '2'"
     ]
    }
   ],
   "source": [
    "# For formations with 1 sample\n",
    "import re\n",
    "\n",
    "\n",
    "with open('goalie-catch-our.conf', 'r') as conffile:\n",
    "        lines = conffile.readlines()\n",
    "\n",
    "match = re.compile('^[0-9]')\n",
    "begin = False\n",
    "\n",
    "formation = dict()\n",
    "for i, line in enumerate(lines):\n",
    "    if re.match(match, line):\n",
    "        line = line.split(' ')\n",
    "        key = line[0]\n",
    "        val = ' '.join(line[1:])\n",
    "        formation[key] = val\n",
    "\n",
    "new_form = dict()\n",
    "i = 4\n",
    "for key, value in formation.items():\n",
    "    if key in ['Ball', '1', '11']:\n",
    "        new_form[key] = formation[key]\n",
    "    elif int(key) < 6:\n",
    "        new_form[key] = formation[str(int(key) + 2*i)]\n",
    "        i -= 1\n",
    "    elif int(key) == 6:\n",
    "        new_form[key] = formation[key]\n",
    "        i = 1\n",
    "    elif int(key) > 6:\n",
    "        new_form[key] = formation[str(int(key) - 2*i)]\n",
    "        i += 1\n",
    "\n",
    "new_lines = list()\n",
    "new_lines.append('Formation Static\\n')\n",
    "for key, value in new_form.items():\n",
    "    new_lines.append(' '.join([key, value]))\n",
    "new_lines.append('\\n')"
   ]
  },
  {
   "cell_type": "code",
   "execution_count": 41,
   "metadata": {},
   "outputs": [],
   "source": [
    "with open('new_form.conf', 'w') as newf:\n",
    "    newf.writelines(new_lines)\n",
    "    newf.close()"
   ]
  }
 ],
 "metadata": {
  "kernelspec": {
   "display_name": "graduenv",
   "language": "python",
   "name": "graduationmgm-py3.6"
  },
  "language_info": {
   "codemirror_mode": {
    "name": "ipython",
    "version": 3
   },
   "file_extension": ".py",
   "mimetype": "text/x-python",
   "name": "python",
   "nbconvert_exporter": "python",
   "pygments_lexer": "ipython3",
   "version": "3.6.8"
  }
 },
 "nbformat": 4,
 "nbformat_minor": 2
}
